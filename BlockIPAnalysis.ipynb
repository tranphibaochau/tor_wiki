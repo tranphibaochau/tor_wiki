{
 "cells": [
  {
   "cell_type": "code",
   "execution_count": 2,
   "metadata": {
    "collapsed": true
   },
   "outputs": [],
   "source": [
    "import pandas as pd\n",
    "import numpy as np\n"
   ]
  },
  {
   "cell_type": "code",
   "execution_count": 3,
   "metadata": {
    "collapsed": true
   },
   "outputs": [
    {
     "data": {
      "text/html": [
       "<div>\n",
       "<style>\n",
       "    .dataframe thead tr:only-child th {\n",
       "        text-align: right;\n",
       "    }\n",
       "\n",
       "    .dataframe thead th {\n",
       "        text-align: left;\n",
       "    }\n",
       "\n",
       "    .dataframe tbody tr th {\n",
       "        vertical-align: top;\n",
       "    }\n",
       "</style>\n",
       "<table border=\"1\" class=\"dataframe\">\n",
       "  <thead>\n",
       "    <tr style=\"text-align: right;\">\n",
       "      <th></th>\n",
       "      <th>ip_address</th>\n",
       "      <th>publish_date</th>\n",
       "      <th>action</th>\n",
       "      <th>block_date</th>\n",
       "      <th>comment</th>\n",
       "    </tr>\n",
       "  </thead>\n",
       "  <tbody>\n",
       "    <tr>\n",
       "      <th>0</th>\n",
       "      <td>18.187.1.68</td>\n",
       "      <td>2011-11-18 01:22:55</td>\n",
       "      <td>block</td>\n",
       "      <td>2006-01-16 21:12:39</td>\n",
       "      <td>NPA</td>\n",
       "    </tr>\n",
       "    <tr>\n",
       "      <th>1</th>\n",
       "      <td>18.187.1.68</td>\n",
       "      <td>2011-11-18 01:22:55</td>\n",
       "      <td>unblock</td>\n",
       "      <td>2006-01-16 21:36:33</td>\n",
       "      <td>open proxy, extending block</td>\n",
       "    </tr>\n",
       "    <tr>\n",
       "      <th>2</th>\n",
       "      <td>18.187.1.68</td>\n",
       "      <td>2011-11-18 01:22:55</td>\n",
       "      <td>block</td>\n",
       "      <td>2006-01-16 21:38:12</td>\n",
       "      <td>Open proxy</td>\n",
       "    </tr>\n",
       "    <tr>\n",
       "      <th>3</th>\n",
       "      <td>216.194.67.53</td>\n",
       "      <td>2010-10-21 12:02:11</td>\n",
       "      <td>block</td>\n",
       "      <td>2006-02-16 21:05:32</td>\n",
       "      <td>Tor {{openproxy}}</td>\n",
       "    </tr>\n",
       "    <tr>\n",
       "      <th>4</th>\n",
       "      <td>80.58.205.39</td>\n",
       "      <td>2010-10-24 16:54:34</td>\n",
       "      <td>block</td>\n",
       "      <td>2006-05-18 08:33:53</td>\n",
       "      <td>repeated vandalism to various articles</td>\n",
       "    </tr>\n",
       "  </tbody>\n",
       "</table>\n",
       "</div>"
      ],
      "text/plain": [
       "<div>\n",
       "<style>\n",
       "    .dataframe thead tr:only-child th {\n",
       "        text-align: right;\n",
       "    }\n",
       "\n",
       "    .dataframe thead th {\n",
       "        text-align: left;\n",
       "    }\n",
       "\n",
       "    .dataframe tbody tr th {\n",
       "        vertical-align: top;\n",
       "    }\n",
       "</style>\n",
       "<table border=\"1\" class=\"dataframe\">\n",
       "  <thead>\n",
       "    <tr style=\"text-align: right;\">\n",
       "      <th></th>\n",
       "      <th>ip_address</th>\n",
       "      <th>publish_date</th>\n",
       "      <th>action</th>\n",
       "      <th>block_date</th>\n",
       "      <th>comment</th>\n",
       "    </tr>\n",
       "  </thead>\n",
       "  <tbody>\n",
       "    <tr>\n",
       "      <th>0</th>\n",
       "      <td>18.187.1.68</td>\n",
       "      <td>2011-11-18 01:22:55</td>\n",
       "      <td>block</td>\n",
       "      <td>2006-01-16 21:12:39</td>\n",
       "      <td>NPA</td>\n",
       "    </tr>\n",
       "    <tr>\n",
       "      <th>1</th>\n",
       "      <td>18.187.1.68</td>\n",
       "      <td>2011-11-18 01:22:55</td>\n",
       "      <td>unblock</td>\n",
       "      <td>2006-01-16 21:36:33</td>\n",
       "      <td>open proxy, extending block</td>\n",
       "    </tr>\n",
       "    <tr>\n",
       "      <th>2</th>\n",
       "      <td>18.187.1.68</td>\n",
       "      <td>2011-11-18 01:22:55</td>\n",
       "      <td>block</td>\n",
       "      <td>2006-01-16 21:38:12</td>\n",
       "      <td>Open proxy</td>\n",
       "    </tr>\n",
       "    <tr>\n",
       "      <th>3</th>\n",
       "      <td>216.194.67.53</td>\n",
       "      <td>2010-10-21 12:02:11</td>\n",
       "      <td>block</td>\n",
       "      <td>2006-02-16 21:05:32</td>\n",
       "      <td>Tor {{openproxy}}</td>\n",
       "    </tr>\n",
       "    <tr>\n",
       "      <th>4</th>\n",
       "      <td>80.58.205.39</td>\n",
       "      <td>2010-10-24 16:54:34</td>\n",
       "      <td>block</td>\n",
       "      <td>2006-05-18 08:33:53</td>\n",
       "      <td>repeated vandalism to various articles</td>\n",
       "    </tr>\n",
       "  </tbody>\n",
       "</table>\n",
       "</div>"
      ]
     },
     "execution_count": 3,
     "metadata": {},
     "output_type": "execute_result"
    }
   ],
   "source": [
    "df = pd.read_csv(\"/Users/nevermoar/Documents/tor_wiki/blocked_ips_20180520.tsv\", sep=\"\\t\", names = \n",
    "['ip_address', 'publish_date', 'action', 'block_date', 'comment'])\n",
    "df.head()"
   ]
  },
  {
   "cell_type": "code",
   "execution_count": 4,
   "metadata": {},
   "outputs": [
    {
     "data": {
      "text/plain": [
       "437"
      ]
     },
     "execution_count": 4,
     "metadata": {},
     "output_type": "execute_result"
    }
   ],
   "source": [
    "df['year'] = df['block_date'].str.slice(0,4)\n",
    "block_year_2010 = len(df[df['year'] == '2010'])\n",
    "block_year_2010"
   ]
  },
  {
   "cell_type": "code",
   "execution_count": 6,
   "metadata": {},
   "outputs": [
    {
     "data": {
      "text/plain": [
       "1451"
      ]
     },
     "execution_count": 6,
     "metadata": {},
     "output_type": "execute_result"
    }
   ],
   "source": [
    "block_year_2011 = len(df[df['year'] == '2011'])\n",
    "block_year_2011"
   ]
  },
  {
   "cell_type": "code",
   "execution_count": 7,
   "metadata": {},
   "outputs": [
    {
     "data": {
      "text/plain": [
       "1282"
      ]
     },
     "execution_count": 7,
     "metadata": {},
     "output_type": "execute_result"
    }
   ],
   "source": [
    "block_year_2012 = len(df[df['year'] == '2012'])\n",
    "block_year_2012"
   ]
  },
  {
   "cell_type": "code",
   "execution_count": 8,
   "metadata": {},
   "outputs": [
    {
     "data": {
      "text/plain": [
       "303"
      ]
     },
     "execution_count": 8,
     "metadata": {},
     "output_type": "execute_result"
    }
   ],
   "source": [
    "block_year_2013 = len(df[df['year'] == '2013'])\n",
    "block_year_2013"
   ]
  },
  {
   "cell_type": "code",
   "execution_count": 9,
   "metadata": {},
   "outputs": [
    {
     "data": {
      "text/plain": [
       "34"
      ]
     },
     "execution_count": 9,
     "metadata": {},
     "output_type": "execute_result"
    }
   ],
   "source": [
    "block_year_2014 = len(df[df['year'] == '2014'])\n",
    "block_year_2014"
   ]
  },
  {
   "cell_type": "code",
   "execution_count": 10,
   "metadata": {},
   "outputs": [
    {
     "data": {
      "text/plain": [
       "23"
      ]
     },
     "execution_count": 10,
     "metadata": {},
     "output_type": "execute_result"
    }
   ],
   "source": [
    "block_year_2015 = len(df[df['year'] == '2015'])\n",
    "block_year_2015"
   ]
  },
  {
   "cell_type": "code",
   "execution_count": 11,
   "metadata": {},
   "outputs": [
    {
     "data": {
      "text/plain": [
       "32"
      ]
     },
     "execution_count": 11,
     "metadata": {},
     "output_type": "execute_result"
    }
   ],
   "source": [
    "block_year_2016 = len(df[df['year'] == '2016'])\n",
    "block_year_2016"
   ]
  },
  {
   "cell_type": "code",
   "execution_count": 12,
   "metadata": {},
   "outputs": [
    {
     "data": {
      "text/plain": [
       "40"
      ]
     },
     "execution_count": 12,
     "metadata": {},
     "output_type": "execute_result"
    }
   ],
   "source": [
    "block_year_2017 = len(df[df['year'] == '2017'])\n",
    "block_year_2017"
   ]
  },
  {
   "cell_type": "code",
   "execution_count": 13,
   "metadata": {},
   "outputs": [
    {
     "data": {
      "text/plain": [
       "2"
      ]
     },
     "execution_count": 13,
     "metadata": {},
     "output_type": "execute_result"
    }
   ],
   "source": [
    "block_year_2018 = len(df[df['year'] == '2018'])\n",
    "block_year_2018"
   ]
  },
  {
   "cell_type": "code",
   "execution_count": 14,
   "metadata": {},
   "outputs": [
    {
     "data": {
      "text/html": [
       "<div>\n",
       "<style>\n",
       "    .dataframe thead tr:only-child th {\n",
       "        text-align: right;\n",
       "    }\n",
       "\n",
       "    .dataframe thead th {\n",
       "        text-align: left;\n",
       "    }\n",
       "\n",
       "    .dataframe tbody tr th {\n",
       "        vertical-align: top;\n",
       "    }\n",
       "</style>\n",
       "<table border=\"1\" class=\"dataframe\">\n",
       "  <thead>\n",
       "    <tr style=\"text-align: right;\">\n",
       "      <th></th>\n",
       "      <th>ip_address</th>\n",
       "      <th>publish_date</th>\n",
       "      <th>action</th>\n",
       "      <th>block_date</th>\n",
       "      <th>comment</th>\n",
       "    </tr>\n",
       "  </thead>\n",
       "  <tbody>\n",
       "    <tr>\n",
       "      <th>0</th>\n",
       "      <td>81.94.205.173</td>\n",
       "      <td>2010-02-21 11:02:13</td>\n",
       "      <td>block</td>\n",
       "      <td>2010-02-21 19:41:41</td>\n",
       "      <td>{{blocked proxy}} &lt;!-- 94.242.151.202:1080 --&gt;</td>\n",
       "    </tr>\n",
       "    <tr>\n",
       "      <th>1</th>\n",
       "      <td>91.209.162.126</td>\n",
       "      <td>2010-02-22 13:24:37</td>\n",
       "      <td>block</td>\n",
       "      <td>2010-03-16 20:22:39</td>\n",
       "      <td>{{blocked proxy}} &lt;!-- 94.242.149.183:1080 --&gt;</td>\n",
       "    </tr>\n",
       "    <tr>\n",
       "      <th>2</th>\n",
       "      <td>72.188.97.20</td>\n",
       "      <td>2010-02-27 22:37:57</td>\n",
       "      <td>block</td>\n",
       "      <td>2010-03-18 16:58:22</td>\n",
       "      <td>{{blocked proxy}} &lt;!-- 3246 --&gt;</td>\n",
       "    </tr>\n",
       "    <tr>\n",
       "      <th>3</th>\n",
       "      <td>72.14.182.177</td>\n",
       "      <td>2010-03-02 05:49:30</td>\n",
       "      <td>block</td>\n",
       "      <td>2010-03-19 11:12:29</td>\n",
       "      <td>[[WP:No personal attacks|Personal attacks]] or...</td>\n",
       "    </tr>\n",
       "    <tr>\n",
       "      <th>4</th>\n",
       "      <td>61.32.46.3</td>\n",
       "      <td>2010-03-08 23:05:02</td>\n",
       "      <td>block</td>\n",
       "      <td>2010-03-19 11:13:06</td>\n",
       "      <td>[[WP:Vandalism|Vandalism]]</td>\n",
       "    </tr>\n",
       "  </tbody>\n",
       "</table>\n",
       "</div>"
      ],
      "text/plain": [
       "<div>\n",
       "<style>\n",
       "    .dataframe thead tr:only-child th {\n",
       "        text-align: right;\n",
       "    }\n",
       "\n",
       "    .dataframe thead th {\n",
       "        text-align: left;\n",
       "    }\n",
       "\n",
       "    .dataframe tbody tr th {\n",
       "        vertical-align: top;\n",
       "    }\n",
       "</style>\n",
       "<table border=\"1\" class=\"dataframe\">\n",
       "  <thead>\n",
       "    <tr style=\"text-align: right;\">\n",
       "      <th></th>\n",
       "      <th>ip_address</th>\n",
       "      <th>publish_date</th>\n",
       "      <th>action</th>\n",
       "      <th>block_date</th>\n",
       "      <th>comment</th>\n",
       "    </tr>\n",
       "  </thead>\n",
       "  <tbody>\n",
       "    <tr>\n",
       "      <th>0</th>\n",
       "      <td>81.94.205.173</td>\n",
       "      <td>2010-02-21 11:02:13</td>\n",
       "      <td>block</td>\n",
       "      <td>2010-02-21 19:41:41</td>\n",
       "      <td>{{blocked proxy}} &lt;!-- 94.242.151.202:1080 --&gt;</td>\n",
       "    </tr>\n",
       "    <tr>\n",
       "      <th>1</th>\n",
       "      <td>91.209.162.126</td>\n",
       "      <td>2010-02-22 13:24:37</td>\n",
       "      <td>block</td>\n",
       "      <td>2010-03-16 20:22:39</td>\n",
       "      <td>{{blocked proxy}} &lt;!-- 94.242.149.183:1080 --&gt;</td>\n",
       "    </tr>\n",
       "    <tr>\n",
       "      <th>2</th>\n",
       "      <td>72.188.97.20</td>\n",
       "      <td>2010-02-27 22:37:57</td>\n",
       "      <td>block</td>\n",
       "      <td>2010-03-18 16:58:22</td>\n",
       "      <td>{{blocked proxy}} &lt;!-- 3246 --&gt;</td>\n",
       "    </tr>\n",
       "    <tr>\n",
       "      <th>3</th>\n",
       "      <td>72.14.182.177</td>\n",
       "      <td>2010-03-02 05:49:30</td>\n",
       "      <td>block</td>\n",
       "      <td>2010-03-19 11:12:29</td>\n",
       "      <td>[[WP:No personal attacks|Personal attacks]] or...</td>\n",
       "    </tr>\n",
       "    <tr>\n",
       "      <th>4</th>\n",
       "      <td>61.32.46.3</td>\n",
       "      <td>2010-03-08 23:05:02</td>\n",
       "      <td>block</td>\n",
       "      <td>2010-03-19 11:13:06</td>\n",
       "      <td>[[WP:Vandalism|Vandalism]]</td>\n",
       "    </tr>\n",
       "  </tbody>\n",
       "</table>\n",
       "</div>"
      ]
     },
     "execution_count": 14,
     "metadata": {},
     "output_type": "execute_result"
    }
   ],
   "source": [
    "df2 = pd.read_csv(\"/Users/nevermoar/Documents/tor_wiki/block_ips_all_20180520.tsv\", sep=\"\\t\", names = \n",
    "['ip_address', 'publish_date', 'action', 'block_date', 'comment'])\n",
    "df2.head()"
   ]
  },
  {
   "cell_type": "code",
   "execution_count": 15,
   "metadata": {},
   "outputs": [
    {
     "data": {
      "text/plain": [
       "1531"
      ]
     },
     "execution_count": 15,
     "metadata": {},
     "output_type": "execute_result"
    }
   ],
   "source": [
    "df2['year'] = df2['block_date'].str.slice(0,4)\n",
    "block_year_2010 = len(df2[df2['year'] == '2010'])\n",
    "block_year_2010"
   ]
  },
  {
   "cell_type": "code",
   "execution_count": 16,
   "metadata": {},
   "outputs": [
    {
     "data": {
      "text/plain": [
       "15243"
      ]
     },
     "execution_count": 16,
     "metadata": {},
     "output_type": "execute_result"
    }
   ],
   "source": [
    "block_year_2011 = len(df2[df2['year'] == '2011'])\n",
    "block_year_2011"
   ]
  },
  {
   "cell_type": "code",
   "execution_count": 17,
   "metadata": {},
   "outputs": [
    {
     "data": {
      "text/plain": [
       "9154"
      ]
     },
     "execution_count": 17,
     "metadata": {},
     "output_type": "execute_result"
    }
   ],
   "source": [
    "block_year_2012 = len(df2[df2['year'] == '2012'])\n",
    "block_year_2012"
   ]
  },
  {
   "cell_type": "code",
   "execution_count": 18,
   "metadata": {},
   "outputs": [
    {
     "data": {
      "text/plain": [
       "2415"
      ]
     },
     "execution_count": 18,
     "metadata": {},
     "output_type": "execute_result"
    }
   ],
   "source": [
    "block_year_2013 = len(df2[df2['year'] == '2013'])\n",
    "block_year_2013"
   ]
  },
  {
   "cell_type": "code",
   "execution_count": 19,
   "metadata": {},
   "outputs": [
    {
     "data": {
      "text/plain": [
       "289"
      ]
     },
     "execution_count": 19,
     "metadata": {},
     "output_type": "execute_result"
    }
   ],
   "source": [
    "block_year_2014 = len(df2[df2['year'] == '2014'])\n",
    "block_year_2014"
   ]
  },
  {
   "cell_type": "code",
   "execution_count": 20,
   "metadata": {},
   "outputs": [
    {
     "data": {
      "text/plain": [
       "353"
      ]
     },
     "execution_count": 20,
     "metadata": {},
     "output_type": "execute_result"
    }
   ],
   "source": [
    "block_year_2015 = len(df2[df2['year'] == '2015'])\n",
    "block_year_2015"
   ]
  },
  {
   "cell_type": "code",
   "execution_count": 21,
   "metadata": {},
   "outputs": [
    {
     "data": {
      "text/plain": [
       "557"
      ]
     },
     "execution_count": 21,
     "metadata": {},
     "output_type": "execute_result"
    }
   ],
   "source": [
    "block_year_2016 = len(df2[df2['year'] == '2016'])\n",
    "block_year_2016"
   ]
  },
  {
   "cell_type": "code",
   "execution_count": 22,
   "metadata": {},
   "outputs": [
    {
     "data": {
      "text/plain": [
       "839"
      ]
     },
     "execution_count": 22,
     "metadata": {},
     "output_type": "execute_result"
    }
   ],
   "source": [
    "block_year_2017 = len(df2[df2['year'] == '2017'])\n",
    "block_year_2017"
   ]
  },
  {
   "cell_type": "code",
   "execution_count": 23,
   "metadata": {},
   "outputs": [
    {
     "data": {
      "text/plain": [
       "72"
      ]
     },
     "execution_count": 23,
     "metadata": {},
     "output_type": "execute_result"
    }
   ],
   "source": [
    "block_year_2018 = len(df2[df2['year'] == '2018'])\n",
    "block_year_2018"
   ]
  },
  {
   "cell_type": "code",
   "execution_count": 24,
   "metadata": {},
   "outputs": [
    {
     "data": {
      "text/plain": [
       "305"
      ]
     },
     "execution_count": 24,
     "metadata": {},
     "output_type": "execute_result"
    }
   ],
   "source": [
    "ips_2010 = df[df['year'] == '2010']\n",
    "len(ips_2010.drop_duplicates(subset='ip_address', keep='last'))"
   ]
  },
  {
   "cell_type": "code",
   "execution_count": 25,
   "metadata": {},
   "outputs": [
    {
     "data": {
      "text/plain": [
       "436"
      ]
     },
     "execution_count": 25,
     "metadata": {},
     "output_type": "execute_result"
    }
   ],
   "source": [
    "ips_2011 = df[df['year'] == '2011']\n",
    "len(ips_2011.drop_duplicates(subset='ip_address', keep='last'))"
   ]
  },
  {
   "cell_type": "code",
   "execution_count": 26,
   "metadata": {},
   "outputs": [
    {
     "data": {
      "text/plain": [
       "319"
      ]
     },
     "execution_count": 26,
     "metadata": {},
     "output_type": "execute_result"
    }
   ],
   "source": [
    "ips_2012 = df[df['year'] == '2012']\n",
    "len(ips_2012.drop_duplicates(subset='ip_address', keep='last'))"
   ]
  },
  {
   "cell_type": "code",
   "execution_count": 27,
   "metadata": {},
   "outputs": [
    {
     "data": {
      "text/plain": [
       "235"
      ]
     },
     "execution_count": 27,
     "metadata": {},
     "output_type": "execute_result"
    }
   ],
   "source": [
    "ips_2013 = df[df['year'] == '2013']\n",
    "len(ips_2013.drop_duplicates(subset='ip_address', keep='last'))"
   ]
  },
  {
   "cell_type": "code",
   "execution_count": 28,
   "metadata": {},
   "outputs": [
    {
     "data": {
      "text/plain": [
       "32"
      ]
     },
     "execution_count": 28,
     "metadata": {},
     "output_type": "execute_result"
    }
   ],
   "source": [
    "ips_2014 = df[df['year'] == '2014']\n",
    "len(ips_2014.drop_duplicates(subset='ip_address', keep='last'))"
   ]
  },
  {
   "cell_type": "code",
   "execution_count": 29,
   "metadata": {},
   "outputs": [
    {
     "data": {
      "text/plain": [
       "19"
      ]
     },
     "execution_count": 29,
     "metadata": {},
     "output_type": "execute_result"
    }
   ],
   "source": [
    "ips_2015 = df[df['year'] == '2015']\n",
    "len(ips_2015.drop_duplicates(subset='ip_address', keep='last'))"
   ]
  },
  {
   "cell_type": "code",
   "execution_count": 30,
   "metadata": {},
   "outputs": [
    {
     "data": {
      "text/plain": [
       "22"
      ]
     },
     "execution_count": 30,
     "metadata": {},
     "output_type": "execute_result"
    }
   ],
   "source": [
    "ips_2016 = df[df['year'] == '2016']\n",
    "len(ips_2016.drop_duplicates(subset='ip_address', keep='last'))"
   ]
  },
  {
   "cell_type": "code",
   "execution_count": 31,
   "metadata": {},
   "outputs": [
    {
     "data": {
      "text/plain": [
       "26"
      ]
     },
     "execution_count": 31,
     "metadata": {},
     "output_type": "execute_result"
    }
   ],
   "source": [
    "ips_2017 = df[df['year'] == '2017']\n",
    "len(ips_2017.drop_duplicates(subset='ip_address', keep='last'))"
   ]
  },
  {
   "cell_type": "code",
   "execution_count": 32,
   "metadata": {},
   "outputs": [
    {
     "data": {
      "text/plain": [
       "1296"
      ]
     },
     "execution_count": 32,
     "metadata": {},
     "output_type": "execute_result"
    }
   ],
   "source": [
    "ips_all_2010 = df2[df2['year'] == '2010']\n",
    "len(ips_all_2010.drop_duplicates(subset='ip_address', keep='last'))"
   ]
  },
  {
   "cell_type": "code",
   "execution_count": 33,
   "metadata": {},
   "outputs": [
    {
     "data": {
      "text/plain": [
       "9989"
      ]
     },
     "execution_count": 33,
     "metadata": {},
     "output_type": "execute_result"
    }
   ],
   "source": [
    "ips_all_2011 = df2[df2['year'] == '2011']\n",
    "len(ips_all_2011.drop_duplicates(subset='ip_address', keep='last'))"
   ]
  },
  {
   "cell_type": "code",
   "execution_count": 34,
   "metadata": {},
   "outputs": [
    {
     "data": {
      "text/plain": [
       "4126"
      ]
     },
     "execution_count": 34,
     "metadata": {},
     "output_type": "execute_result"
    }
   ],
   "source": [
    "ips_all_2012 = df2[df2['year'] == '2012']\n",
    "len(ips_all_2012.drop_duplicates(subset='ip_address', keep='last'))"
   ]
  },
  {
   "cell_type": "code",
   "execution_count": 35,
   "metadata": {},
   "outputs": [
    {
     "data": {
      "text/plain": [
       "1933"
      ]
     },
     "execution_count": 35,
     "metadata": {},
     "output_type": "execute_result"
    }
   ],
   "source": [
    "ips_all_2013 = df2[df2['year'] == '2013']\n",
    "len(ips_all_2013.drop_duplicates(subset='ip_address', keep='last'))"
   ]
  },
  {
   "cell_type": "code",
   "execution_count": 36,
   "metadata": {},
   "outputs": [
    {
     "data": {
      "text/plain": [
       "283"
      ]
     },
     "execution_count": 36,
     "metadata": {},
     "output_type": "execute_result"
    }
   ],
   "source": [
    "ips_all_2014 = df2[df2['year'] == '2014']\n",
    "len(ips_all_2014.drop_duplicates(subset='ip_address', keep='last'))"
   ]
  },
  {
   "cell_type": "code",
   "execution_count": 37,
   "metadata": {},
   "outputs": [
    {
     "data": {
      "text/plain": [
       "319"
      ]
     },
     "execution_count": 37,
     "metadata": {},
     "output_type": "execute_result"
    }
   ],
   "source": [
    "ips_all_2015 = df2[df2['year'] == '2015']\n",
    "len(ips_all_2015.drop_duplicates(subset='ip_address', keep='last'))"
   ]
  },
  {
   "cell_type": "code",
   "execution_count": 38,
   "metadata": {},
   "outputs": [
    {
     "data": {
      "text/plain": [
       "491"
      ]
     },
     "execution_count": 38,
     "metadata": {},
     "output_type": "execute_result"
    }
   ],
   "source": [
    "ips_all_2016 = df2[df2['year'] == '2016']\n",
    "len(ips_all_2016.drop_duplicates(subset='ip_address', keep='last'))"
   ]
  },
  {
   "cell_type": "code",
   "execution_count": 39,
   "metadata": {},
   "outputs": [
    {
     "data": {
      "text/plain": [
       "708"
      ]
     },
     "execution_count": 39,
     "metadata": {},
     "output_type": "execute_result"
    }
   ],
   "source": [
    "ips_all_2017 = df2[df2['year'] == '2017']\n",
    "len(ips_all_2017.drop_duplicates(subset='ip_address', keep='last'))"
   ]
  },
  {
   "cell_type": "code",
   "execution_count": null,
   "metadata": {},
   "outputs": [],
   "source": []
  }
 ],
 "metadata": {
  "kernelspec": {
   "display_name": "Python 2",
   "language": "python",
   "name": "python2"
  },
  "language_info": {
   "codemirror_mode": {
    "name": "ipython",
    "version": 2
   },
   "file_extension": ".py",
   "mimetype": "text/x-python",
   "name": "python",
   "nbconvert_exporter": "python",
   "pygments_lexer": "ipython2",
   "version": "2.7.6"
  }
 },
 "nbformat": 4,
 "nbformat_minor": 0
}
