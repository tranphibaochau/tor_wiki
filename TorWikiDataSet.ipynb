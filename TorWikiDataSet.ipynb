{
 "cells": [
  {
   "cell_type": "code",
   "execution_count": 2,
   "metadata": {
    "collapsed": true
   },
   "outputs": [],
   "source": [
    "import pandas as pd\n",
    "import numpy as np\n",
    "#pd.set_option('display.max_rows', 500)"
   ]
  },
  {
   "cell_type": "code",
   "execution_count": 3,
   "metadata": {},
   "outputs": [
    {
     "data": {
      "text/html": [
       "<div>\n",
       "<style>\n",
       "    .dataframe thead tr:only-child th {\n",
       "        text-align: right;\n",
       "    }\n",
       "\n",
       "    .dataframe thead th {\n",
       "        text-align: left;\n",
       "    }\n",
       "\n",
       "    .dataframe tbody tr th {\n",
       "        vertical-align: top;\n",
       "    }\n",
       "</style>\n",
       "<table border=\"1\" class=\"dataframe\">\n",
       "  <thead>\n",
       "    <tr style=\"text-align: right;\">\n",
       "      <th></th>\n",
       "      <th>revid</th>\n",
       "      <th>editor</th>\n",
       "      <th>datetime</th>\n",
       "      <th>reverting</th>\n",
       "      <th>reverted</th>\n",
       "    </tr>\n",
       "  </thead>\n",
       "  <tbody>\n",
       "    <tr>\n",
       "      <th>0</th>\n",
       "      <td>587224043</td>\n",
       "      <td>46.149.23.63</td>\n",
       "      <td>2013-12-22 13:03:32</td>\n",
       "      <td>False</td>\n",
       "      <td>True</td>\n",
       "    </tr>\n",
       "    <tr>\n",
       "      <th>1</th>\n",
       "      <td>417593022</td>\n",
       "      <td>220.255.1.103</td>\n",
       "      <td>2011-03-07 12:31:10</td>\n",
       "      <td>False</td>\n",
       "      <td>False</td>\n",
       "    </tr>\n",
       "    <tr>\n",
       "      <th>2</th>\n",
       "      <td>433570459</td>\n",
       "      <td>220.255.2.83</td>\n",
       "      <td>2011-06-10 15:34:45</td>\n",
       "      <td>False</td>\n",
       "      <td>False</td>\n",
       "    </tr>\n",
       "    <tr>\n",
       "      <th>3</th>\n",
       "      <td>426174605</td>\n",
       "      <td>220.255.1.67</td>\n",
       "      <td>2011-04-27 08:53:20</td>\n",
       "      <td>False</td>\n",
       "      <td>False</td>\n",
       "    </tr>\n",
       "    <tr>\n",
       "      <th>4</th>\n",
       "      <td>381869504</td>\n",
       "      <td>82.194.62.25</td>\n",
       "      <td>2010-08-30 12:41:03</td>\n",
       "      <td>False</td>\n",
       "      <td>True</td>\n",
       "    </tr>\n",
       "  </tbody>\n",
       "</table>\n",
       "</div>"
      ],
      "text/plain": [
       "<div>\n",
       "<style>\n",
       "    .dataframe thead tr:only-child th {\n",
       "        text-align: right;\n",
       "    }\n",
       "\n",
       "    .dataframe thead th {\n",
       "        text-align: left;\n",
       "    }\n",
       "\n",
       "    .dataframe tbody tr th {\n",
       "        vertical-align: top;\n",
       "    }\n",
       "</style>\n",
       "<table border=\"1\" class=\"dataframe\">\n",
       "  <thead>\n",
       "    <tr style=\"text-align: right;\">\n",
       "      <th></th>\n",
       "      <th>revid</th>\n",
       "      <th>editor</th>\n",
       "      <th>datetime</th>\n",
       "      <th>reverting</th>\n",
       "      <th>reverted</th>\n",
       "    </tr>\n",
       "  </thead>\n",
       "  <tbody>\n",
       "    <tr>\n",
       "      <th>0</th>\n",
       "      <td>587224043</td>\n",
       "      <td>46.149.23.63</td>\n",
       "      <td>2013-12-22 13:03:32</td>\n",
       "      <td>False</td>\n",
       "      <td>True</td>\n",
       "    </tr>\n",
       "    <tr>\n",
       "      <th>1</th>\n",
       "      <td>417593022</td>\n",
       "      <td>220.255.1.103</td>\n",
       "      <td>2011-03-07 12:31:10</td>\n",
       "      <td>False</td>\n",
       "      <td>False</td>\n",
       "    </tr>\n",
       "    <tr>\n",
       "      <th>2</th>\n",
       "      <td>433570459</td>\n",
       "      <td>220.255.2.83</td>\n",
       "      <td>2011-06-10 15:34:45</td>\n",
       "      <td>False</td>\n",
       "      <td>False</td>\n",
       "    </tr>\n",
       "    <tr>\n",
       "      <th>3</th>\n",
       "      <td>426174605</td>\n",
       "      <td>220.255.1.67</td>\n",
       "      <td>2011-04-27 08:53:20</td>\n",
       "      <td>False</td>\n",
       "      <td>False</td>\n",
       "    </tr>\n",
       "    <tr>\n",
       "      <th>4</th>\n",
       "      <td>381869504</td>\n",
       "      <td>82.194.62.25</td>\n",
       "      <td>2010-08-30 12:41:03</td>\n",
       "      <td>False</td>\n",
       "      <td>True</td>\n",
       "    </tr>\n",
       "  </tbody>\n",
       "</table>\n",
       "</div>"
      ]
     },
     "execution_count": 3,
     "metadata": {},
     "output_type": "execute_result"
    }
   ],
   "source": [
    "df = pd.read_csv(\"/Users/nevermoar/Documents/tor_wiki/tor_wikipedia_edits_20180522.tsv\", sep=\"\\t\")\n",
    "df.head()"
   ]
  },
  {
   "cell_type": "code",
   "execution_count": 14,
   "metadata": {},
   "outputs": [
    {
     "data": {
      "text/html": [
       "<div>\n",
       "<style>\n",
       "    .dataframe thead tr:only-child th {\n",
       "        text-align: right;\n",
       "    }\n",
       "\n",
       "    .dataframe thead th {\n",
       "        text-align: left;\n",
       "    }\n",
       "\n",
       "    .dataframe tbody tr th {\n",
       "        vertical-align: top;\n",
       "    }\n",
       "</style>\n",
       "<table border=\"1\" class=\"dataframe\">\n",
       "  <thead>\n",
       "    <tr style=\"text-align: right;\">\n",
       "      <th></th>\n",
       "      <th>revid</th>\n",
       "      <th>editor</th>\n",
       "      <th>datetime</th>\n",
       "      <th>reverting</th>\n",
       "      <th>reverted</th>\n",
       "      <th>year</th>\n",
       "      <th>numberofedits</th>\n",
       "    </tr>\n",
       "  </thead>\n",
       "  <tbody>\n",
       "    <tr>\n",
       "      <th>7364</th>\n",
       "      <td>408958102</td>\n",
       "      <td>77.69.195.30</td>\n",
       "      <td>2011-01-20 11:49:04</td>\n",
       "      <td>False</td>\n",
       "      <td>False</td>\n",
       "      <td>2011</td>\n",
       "      <td>363</td>\n",
       "    </tr>\n",
       "    <tr>\n",
       "      <th>570</th>\n",
       "      <td>413655766</td>\n",
       "      <td>82.194.62.25</td>\n",
       "      <td>2011-02-13 09:10:10</td>\n",
       "      <td>False</td>\n",
       "      <td>False</td>\n",
       "      <td>2011</td>\n",
       "      <td>318</td>\n",
       "    </tr>\n",
       "    <tr>\n",
       "      <th>1458</th>\n",
       "      <td>393970350</td>\n",
       "      <td>88.201.1.30</td>\n",
       "      <td>2010-10-31 13:08:26</td>\n",
       "      <td>False</td>\n",
       "      <td>True</td>\n",
       "      <td>2010</td>\n",
       "      <td>305</td>\n",
       "    </tr>\n",
       "    <tr>\n",
       "      <th>4330</th>\n",
       "      <td>391302685</td>\n",
       "      <td>86.43.88.90</td>\n",
       "      <td>2010-10-17 21:06:30</td>\n",
       "      <td>False</td>\n",
       "      <td>False</td>\n",
       "      <td>2010</td>\n",
       "      <td>236</td>\n",
       "    </tr>\n",
       "    <tr>\n",
       "      <th>8330</th>\n",
       "      <td>418266987</td>\n",
       "      <td>203.177.74.137</td>\n",
       "      <td>2011-03-11 08:18:35</td>\n",
       "      <td>False</td>\n",
       "      <td>False</td>\n",
       "      <td>2011</td>\n",
       "      <td>185</td>\n",
       "    </tr>\n",
       "  </tbody>\n",
       "</table>\n",
       "</div>"
      ],
      "text/plain": [
       "<div>\n",
       "<style>\n",
       "    .dataframe thead tr:only-child th {\n",
       "        text-align: right;\n",
       "    }\n",
       "\n",
       "    .dataframe thead th {\n",
       "        text-align: left;\n",
       "    }\n",
       "\n",
       "    .dataframe tbody tr th {\n",
       "        vertical-align: top;\n",
       "    }\n",
       "</style>\n",
       "<table border=\"1\" class=\"dataframe\">\n",
       "  <thead>\n",
       "    <tr style=\"text-align: right;\">\n",
       "      <th></th>\n",
       "      <th>revid</th>\n",
       "      <th>editor</th>\n",
       "      <th>datetime</th>\n",
       "      <th>reverting</th>\n",
       "      <th>reverted</th>\n",
       "      <th>year</th>\n",
       "      <th>numberofedits</th>\n",
       "    </tr>\n",
       "  </thead>\n",
       "  <tbody>\n",
       "    <tr>\n",
       "      <th>7364</th>\n",
       "      <td>408958102</td>\n",
       "      <td>77.69.195.30</td>\n",
       "      <td>2011-01-20 11:49:04</td>\n",
       "      <td>False</td>\n",
       "      <td>False</td>\n",
       "      <td>2011</td>\n",
       "      <td>363</td>\n",
       "    </tr>\n",
       "    <tr>\n",
       "      <th>570</th>\n",
       "      <td>413655766</td>\n",
       "      <td>82.194.62.25</td>\n",
       "      <td>2011-02-13 09:10:10</td>\n",
       "      <td>False</td>\n",
       "      <td>False</td>\n",
       "      <td>2011</td>\n",
       "      <td>318</td>\n",
       "    </tr>\n",
       "    <tr>\n",
       "      <th>1458</th>\n",
       "      <td>393970350</td>\n",
       "      <td>88.201.1.30</td>\n",
       "      <td>2010-10-31 13:08:26</td>\n",
       "      <td>False</td>\n",
       "      <td>True</td>\n",
       "      <td>2010</td>\n",
       "      <td>305</td>\n",
       "    </tr>\n",
       "    <tr>\n",
       "      <th>4330</th>\n",
       "      <td>391302685</td>\n",
       "      <td>86.43.88.90</td>\n",
       "      <td>2010-10-17 21:06:30</td>\n",
       "      <td>False</td>\n",
       "      <td>False</td>\n",
       "      <td>2010</td>\n",
       "      <td>236</td>\n",
       "    </tr>\n",
       "    <tr>\n",
       "      <th>8330</th>\n",
       "      <td>418266987</td>\n",
       "      <td>203.177.74.137</td>\n",
       "      <td>2011-03-11 08:18:35</td>\n",
       "      <td>False</td>\n",
       "      <td>False</td>\n",
       "      <td>2011</td>\n",
       "      <td>185</td>\n",
       "    </tr>\n",
       "  </tbody>\n",
       "</table>\n",
       "</div>"
      ]
     },
     "execution_count": 14,
     "metadata": {},
     "output_type": "execute_result"
    }
   ],
   "source": [
    "df2 = df.copy()\n",
    "df2['numberofedits'] = df2.groupby('editor')['editor'].transform(pd.Series.value_counts)\n",
    "df2 = df2.sort_values('numberofedits', ascending=False)\n",
    "#df2\n",
    "result = df2.drop_duplicates(subset='editor', keep='last')\n",
    "result.head()"
   ]
  },
  {
   "cell_type": "code",
   "execution_count": 15,
   "metadata": {},
   "outputs": [
    {
     "data": {
      "text/plain": [
       "3321"
      ]
     },
     "execution_count": 15,
     "metadata": {},
     "output_type": "execute_result"
    }
   ],
   "source": [
    "df['year'] = df['datetime'].str.slice(0,4)\n",
    "edits_2010 = len(df[df['year'] == '2010'])\n",
    "edits_2010"
   ]
  },
  {
   "cell_type": "code",
   "execution_count": 16,
   "metadata": {},
   "outputs": [
    {
     "data": {
      "text/plain": [
       "7121"
      ]
     },
     "execution_count": 16,
     "metadata": {},
     "output_type": "execute_result"
    }
   ],
   "source": [
    "edits_2011 = len(df[df['year'] == '2011'])\n",
    "edits_2011"
   ]
  },
  {
   "cell_type": "code",
   "execution_count": 17,
   "metadata": {},
   "outputs": [
    {
     "data": {
      "text/plain": [
       "1370"
      ]
     },
     "execution_count": 17,
     "metadata": {},
     "output_type": "execute_result"
    }
   ],
   "source": [
    "edits_2012 = len(df[df['year'] == '2012'])\n",
    "edits_2012"
   ]
  },
  {
   "cell_type": "code",
   "execution_count": 18,
   "metadata": {},
   "outputs": [
    {
     "data": {
      "text/plain": [
       "1099"
      ]
     },
     "execution_count": 18,
     "metadata": {},
     "output_type": "execute_result"
    }
   ],
   "source": [
    "edits_2013= len(df[df['year'] == '2013'])\n",
    "edits_2013"
   ]
  },
  {
   "cell_type": "code",
   "execution_count": 19,
   "metadata": {},
   "outputs": [
    {
     "data": {
      "text/plain": [
       "539"
      ]
     },
     "execution_count": 19,
     "metadata": {},
     "output_type": "execute_result"
    }
   ],
   "source": [
    "edits_2014 = len(df[df['year'] == '2014'])\n",
    "edits_2014"
   ]
  },
  {
   "cell_type": "code",
   "execution_count": 20,
   "metadata": {},
   "outputs": [
    {
     "data": {
      "text/plain": [
       "370"
      ]
     },
     "execution_count": 20,
     "metadata": {},
     "output_type": "execute_result"
    }
   ],
   "source": [
    "edits_2015 = len(df[df['year'] == '2015'])\n",
    "edits_2015"
   ]
  },
  {
   "cell_type": "code",
   "execution_count": 21,
   "metadata": {},
   "outputs": [
    {
     "data": {
      "text/plain": [
       "264"
      ]
     },
     "execution_count": 21,
     "metadata": {},
     "output_type": "execute_result"
    }
   ],
   "source": [
    "edits_2016 = len(df[df['year'] == '2016'])\n",
    "edits_2016"
   ]
  },
  {
   "cell_type": "code",
   "execution_count": 22,
   "metadata": {},
   "outputs": [
    {
     "data": {
      "text/plain": [
       "136"
      ]
     },
     "execution_count": 22,
     "metadata": {},
     "output_type": "execute_result"
    }
   ],
   "source": [
    "edits_2017 = len(df[df['year'] == '2017'])\n",
    "edits_2017"
   ]
  },
  {
   "cell_type": "code",
   "execution_count": 23,
   "metadata": {},
   "outputs": [
    {
     "data": {
      "text/plain": [
       "5"
      ]
     },
     "execution_count": 23,
     "metadata": {},
     "output_type": "execute_result"
    }
   ],
   "source": [
    "edits_2018 = len(df[df['year'] == '2018'])\n",
    "edits_2018"
   ]
  },
  {
   "cell_type": "code",
   "execution_count": 24,
   "metadata": {
    "collapsed": true
   },
   "outputs": [
    {
     "data": {
      "text/plain": [
       "825"
      ]
     },
     "execution_count": 24,
     "metadata": {},
     "output_type": "execute_result"
    }
   ],
   "source": [
    "ips_2010 = df[df['year'] == '2010']\n",
    "len(ips_2010.drop_duplicates(subset='editor', keep='last'))\n"
   ]
  },
  {
   "cell_type": "code",
   "execution_count": 25,
   "metadata": {},
   "outputs": [
    {
     "data": {
      "text/plain": [
       "694"
      ]
     },
     "execution_count": 25,
     "metadata": {},
     "output_type": "execute_result"
    }
   ],
   "source": [
    "ips_2011 = df[df['year'] == '2011']\n",
    "len(ips_2011.drop_duplicates(subset='editor', keep='last'))\n",
    "\n"
   ]
  },
  {
   "cell_type": "code",
   "execution_count": 26,
   "metadata": {},
   "outputs": [
    {
     "data": {
      "text/plain": [
       "505"
      ]
     },
     "execution_count": 26,
     "metadata": {},
     "output_type": "execute_result"
    }
   ],
   "source": [
    "ips_2012 = df[df['year'] == '2012']\n",
    "len(ips_2012.drop_duplicates(subset='editor', keep='last'))"
   ]
  },
  {
   "cell_type": "code",
   "execution_count": 27,
   "metadata": {
    "collapsed": true
   },
   "outputs": [
    {
     "data": {
      "text/plain": [
       "480"
      ]
     },
     "execution_count": 27,
     "metadata": {},
     "output_type": "execute_result"
    }
   ],
   "source": [
    "ips_2013 = df[df['year'] == '2013']\n",
    "len(ips_2013.drop_duplicates(subset='editor', keep='last'))"
   ]
  },
  {
   "cell_type": "code",
   "execution_count": 28,
   "metadata": {},
   "outputs": [
    {
     "data": {
      "text/plain": [
       "247"
      ]
     },
     "execution_count": 28,
     "metadata": {},
     "output_type": "execute_result"
    }
   ],
   "source": [
    "ips_2014 = df[df['year'] == '2014']\n",
    "len(ips_2014.drop_duplicates(subset='editor', keep='last'))"
   ]
  },
  {
   "cell_type": "code",
   "execution_count": 29,
   "metadata": {},
   "outputs": [
    {
     "data": {
      "text/plain": [
       "106"
      ]
     },
     "execution_count": 29,
     "metadata": {},
     "output_type": "execute_result"
    }
   ],
   "source": [
    "ips_2015 = df[df['year'] == '2015']\n",
    "len(ips_2015.drop_duplicates(subset='editor', keep='last'))"
   ]
  },
  {
   "cell_type": "code",
   "execution_count": 30,
   "metadata": {},
   "outputs": [
    {
     "data": {
      "text/plain": [
       "70"
      ]
     },
     "execution_count": 30,
     "metadata": {},
     "output_type": "execute_result"
    }
   ],
   "source": [
    "ips_2016 = df[df['year'] == '2016']\n",
    "len(ips_2016.drop_duplicates(subset='editor', keep='last'))"
   ]
  },
  {
   "cell_type": "code",
   "execution_count": 31,
   "metadata": {},
   "outputs": [
    {
     "data": {
      "text/plain": [
       "37"
      ]
     },
     "execution_count": 31,
     "metadata": {},
     "output_type": "execute_result"
    }
   ],
   "source": [
    "ips_2017 = df[df['year'] == '2017']\n",
    "len(ips_2017.drop_duplicates(subset='editor', keep='last'))"
   ]
  },
  {
   "cell_type": "code",
   "execution_count": 32,
   "metadata": {},
   "outputs": [
    {
     "data": {
      "text/plain": [
       "2"
      ]
     },
     "execution_count": 32,
     "metadata": {},
     "output_type": "execute_result"
    }
   ],
   "source": [
    "ips_2018 = df[df['year'] == '2018']\n",
    "len(ips_2018.drop_duplicates(subset='editor', keep='last'))"
   ]
  },
  {
   "cell_type": "code",
   "execution_count": 33,
   "metadata": {},
   "outputs": [
    {
     "data": {
      "text/plain": [
       "8.224956063268893"
      ]
     },
     "execution_count": 33,
     "metadata": {},
     "output_type": "execute_result"
    }
   ],
   "source": [
    "reverting = len(df[df['reverting'] == True])\n",
    "(reverting/len(df))*100\n"
   ]
  },
  {
   "cell_type": "code",
   "execution_count": 34,
   "metadata": {},
   "outputs": [
    {
     "data": {
      "text/plain": [
       "31.641476274165203"
      ]
     },
     "execution_count": 34,
     "metadata": {},
     "output_type": "execute_result"
    }
   ],
   "source": [
    "reverted = len(df[df['reverted'] == True])\n",
    "(reverted/len(df))*100\n"
   ]
  },
  {
   "cell_type": "code",
   "execution_count": 35,
   "metadata": {},
   "outputs": [
    {
     "data": {
      "text/plain": [
       "0.35862691960252935"
      ]
     },
     "execution_count": 35,
     "metadata": {},
     "output_type": "execute_result"
    }
   ],
   "source": [
    "reverted_2010 = df[df['year'] == '2010']\n",
    "reverted_2010_rate = len(reverted_2010[reverted_2010['reverted'] == True])\n",
    "reverted_2010_rate/len(reverted_2010)"
   ]
  },
  {
   "cell_type": "code",
   "execution_count": 36,
   "metadata": {},
   "outputs": [
    {
     "data": {
      "text/plain": [
       "0.2562842297430136"
      ]
     },
     "execution_count": 36,
     "metadata": {},
     "output_type": "execute_result"
    }
   ],
   "source": [
    "reverted_2011 = df[df['year'] == '2011']\n",
    "reverted_2011_rate = len(reverted_2011[reverted_2011['reverted'] == True])\n",
    "reverted_2011_rate/len(reverted_2011)"
   ]
  },
  {
   "cell_type": "code",
   "execution_count": 37,
   "metadata": {},
   "outputs": [
    {
     "data": {
      "text/plain": [
       "0.4364963503649635"
      ]
     },
     "execution_count": 37,
     "metadata": {},
     "output_type": "execute_result"
    }
   ],
   "source": [
    "reverted_2012 = df[df['year'] == '2012']\n",
    "reverted_2012_rate = len(reverted_2012[reverted_2012['reverted'] == True])\n",
    "reverted_2012_rate/len(reverted_2012)"
   ]
  },
  {
   "cell_type": "code",
   "execution_count": 38,
   "metadata": {},
   "outputs": [
    {
     "data": {
      "text/plain": [
       "0.462238398544131"
      ]
     },
     "execution_count": 38,
     "metadata": {},
     "output_type": "execute_result"
    }
   ],
   "source": [
    "reverted_2013 = df[df['year'] == '2013']\n",
    "reverted_2013_rate = len(reverted_2013[reverted_2013['reverted'] == True])\n",
    "reverted_2013_rate/len(reverted_2013)"
   ]
  },
  {
   "cell_type": "code",
   "execution_count": 39,
   "metadata": {},
   "outputs": [
    {
     "data": {
      "text/plain": [
       "0.274582560296846"
      ]
     },
     "execution_count": 39,
     "metadata": {},
     "output_type": "execute_result"
    }
   ],
   "source": [
    "reverted_2014 = df[df['year'] == '2014']\n",
    "reverted_2014_rate = len(reverted_2014[reverted_2014['reverted'] == True])\n",
    "reverted_2014_rate/len(reverted_2014)"
   ]
  },
  {
   "cell_type": "code",
   "execution_count": 40,
   "metadata": {},
   "outputs": [
    {
     "data": {
      "text/plain": [
       "0.21891891891891893"
      ]
     },
     "execution_count": 40,
     "metadata": {},
     "output_type": "execute_result"
    }
   ],
   "source": [
    "reverted_2015 = df[df['year'] == '2015']\n",
    "reverted_2015_rate = len(reverted_2015[reverted_2015['reverted'] == True])\n",
    "reverted_2015_rate/len(reverted_2015)"
   ]
  },
  {
   "cell_type": "code",
   "execution_count": 41,
   "metadata": {},
   "outputs": [
    {
     "data": {
      "text/plain": [
       "0.36363636363636365"
      ]
     },
     "execution_count": 41,
     "metadata": {},
     "output_type": "execute_result"
    }
   ],
   "source": [
    "reverted_2016 = df[df['year'] == '2016']\n",
    "reverted_2016_rate = len(reverted_2016[reverted_2016['reverted'] == True])\n",
    "reverted_2016_rate/len(reverted_2016)\n"
   ]
  },
  {
   "cell_type": "code",
   "execution_count": 42,
   "metadata": {},
   "outputs": [
    {
     "data": {
      "text/plain": [
       "0.3602941176470588"
      ]
     },
     "execution_count": 42,
     "metadata": {},
     "output_type": "execute_result"
    }
   ],
   "source": [
    "reverted_2017 = df[df['year'] == '2017']\n",
    "reverted_2017_rate = len(reverted_2017[reverted_2017['reverted'] == True])\n",
    "reverted_2017_rate/len(reverted_2017)"
   ]
  },
  {
   "cell_type": "code",
   "execution_count": 43,
   "metadata": {},
   "outputs": [
    {
     "data": {
      "text/plain": [
       "0.19130434782608696"
      ]
     },
     "execution_count": 43,
     "metadata": {},
     "output_type": "execute_result"
    }
   ],
   "source": [
    "ips_mt10_edits = df2[df2['numberofedits'] ==115]\n",
    "ips_mt10_edits\n",
    "#ips_mt10_edits =ips_mt10_edits.drop_duplicates(subset='editor', keep='last')\n",
    "ips_mt10_edits_rate = len(ips_mt10_edits[ips_mt10_edits['reverted'] == True])\n",
    "ips_mt10_edits_rate/len(ips_mt10_edits)\n"
   ]
  },
  {
   "cell_type": "code",
   "execution_count": 81,
   "metadata": {},
   "outputs": [
    {
     "data": {
      "text/plain": [
       "0.4106334841628959"
      ]
     },
     "execution_count": 81,
     "metadata": {},
     "output_type": "execute_result"
    }
   ],
   "source": [
    "ips_lt10_edits = df2[(df2['numberofedits'] <10)]\n",
    "#ips_mt10_edits =ips_mt10_edits.drop_duplicates(subset='editor', keep='last')\n",
    "ips_lt10_edits_rate = len(ips_lt10_edits[ips_lt10_edits['reverted'] == True])\n",
    "ips_lt10_edits_rate/len(ips_lt10_edits)"
   ]
  },
  {
   "cell_type": "code",
   "execution_count": 125,
   "metadata": {},
   "outputs": [
    {
     "data": {
      "text/plain": [
       "[Text(0,0.5,'y label'), Text(0.5,0,'x label')]"
      ]
     },
     "execution_count": 125,
     "metadata": {},
     "output_type": "execute_result"
    },
    {
     "data": {
      "image/png": "[encoded data removed]",
      "text/plain": [
       "<matplotlib.figure.Figure at 0x119ed1fd0>"
      ]
     },
     "metadata": {},
     "output_type": "display_data"
    }
   ],
   "source": [
    "#find the revert rate of of all different number of edits\n",
    "edits = df2.numberofedits.unique()\n",
    "all_revert_rates = {}\n",
    "for e in edits:\n",
    "    num_of_reverts = df2[df2['numberofedits'] == e]\n",
    "    edit_rates = len(num_of_reverts[num_of_reverts['reverted'] == True])\n",
    "    edit_rates = edit_rates/len(num_of_reverts)\n",
    "    all_revert_rates[e] = edit_rates\n",
    "df = pd.DataFrame.from_dict(all_revert_rates, orient='index')\n",
    "df = df.sort_index()\n",
    "df = df.reset_index()\n",
    "df.columns = ['num_of_edits', 'revert_rate']\n",
    "\n"
   ]
  },
  {
   "cell_type": "code",
   "execution_count": 126,
   "metadata": {},
   "outputs": [],
   "source": [
    "%matplotlib inline\n",
    "import matplotlib.pyplot as plt\n",
    "\n"
   ]
  },
  {
   "cell_type": "code",
   "execution_count": 127,
   "metadata": {},
   "outputs": [
    {
     "data": {
      "text/plain": [
       "[Text(0,0.5,'y label'), Text(0.5,0,'x label')]"
      ]
     },
     "execution_count": 127,
     "metadata": {},
     "output_type": "execute_result"
    },
    {
     "data": {
      "image/png": "[encoded data removed]",
      "text/plain": [
       "<matplotlib.figure.Figure at 0x119ec0748>"
      ]
     },
     "metadata": {},
     "output_type": "display_data"
    }
   ],
   "source": [
    "ax = df.plot.scatter(x = 'num_of_edits', y = 'revert_rate')\n",
    "ax.set(xlabel ='x label', ylabel = 'y label')\n"
   ]
  },
  {
   "cell_type": "code",
   "execution_count": null,
   "metadata": {},
   "outputs": [],
   "source": []
  }
 ],
 "metadata": {
  "kernelspec": {
   "display_name": "Python 2",
   "language": "python",
   "name": "python2"
  },
  "language_info": {
   "codemirror_mode": {
    "name": "ipython",
    "version": 2
   },
   "file_extension": ".py",
   "mimetype": "text/x-python",
   "name": "python",
   "nbconvert_exporter": "python",
   "pygments_lexer": "ipython2",
   "version": "2.7.6"
  }
 },
 "nbformat": 4,
 "nbformat_minor": 0
}
